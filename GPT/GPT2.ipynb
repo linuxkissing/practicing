{
 "cells": [
  {
   "cell_type": "code",
   "execution_count": 2,
   "metadata": {},
   "outputs": [],
   "source": [
    "import math\n",
    "import torch\n",
    "import torch.nn as nn\n",
    "from torch.nn import functional as F"
   ]
  },
  {
   "cell_type": "markdown",
   "metadata": {},
   "source": [
    "### 第一重 直接写SelfAttention"
   ]
  },
  {
   "cell_type": "code",
   "execution_count": 20,
   "metadata": {},
   "outputs": [],
   "source": [
    "class SelfAttention(nn.Module):\n",
    "    def __init__(self, hidden_dim: int = 756):\n",
    "        super().__init__()\n",
    "        self.hidden_dim = hidden_dim\n",
    "\n",
    "        self.query = nn.Linear(hidden_dim, hidden_dim)\n",
    "        self.key = nn.Linear(hidden_dim, hidden_dim)\n",
    "        self.value = nn.Linear(hidden_dim, hidden_dim)\n",
    "\n",
    "    def forward(self, x):\n",
    "        Q = self.query(x)\n",
    "        K = self.key(x)\n",
    "        V = self.value(x)\n",
    "\n",
    "        attention_value = torch.matmul(\n",
    "            Q ,K.transpose(-2, -1))\n",
    "\n",
    "        attention_weight = torch.softmax(\n",
    "            attention_value / math.sqrt(self.hidden_dim), dim=-1\n",
    "        )\n",
    "        \n",
    "        output = torch.matmul(\n",
    "            attention_weight, V)\n",
    "        \n",
    "        return output"
   ]
  },
  {
   "cell_type": "code",
   "execution_count": 22,
   "metadata": {},
   "outputs": [
    {
     "name": "stdout",
     "output_type": "stream",
     "text": [
      "tensor([[[-0.2301, -0.5728,  0.3617,  ..., -0.2509, -0.0339,  0.0432],\n",
      "         [-0.2300, -0.5731,  0.3601,  ..., -0.2506, -0.0339,  0.0424]],\n",
      "\n",
      "        [[-0.0930, -0.4355,  0.1877,  ...,  0.1289, -0.0683, -0.0112],\n",
      "         [-0.0965, -0.4334,  0.1866,  ...,  0.1349, -0.0671, -0.0063]],\n",
      "\n",
      "        [[-0.3861, -0.2914,  0.2270,  ...,  0.0846, -0.1521,  0.0388],\n",
      "         [-0.3864, -0.2915,  0.2269,  ...,  0.0847, -0.1526,  0.0390]]],\n",
      "       grad_fn=<UnsafeViewBackward0>)\n"
     ]
    }
   ],
   "source": [
    "x = torch.rand(3, 2, 756)\n",
    "\n",
    "self_att = SelfAttention(756)\n",
    "print(self_att(x))"
   ]
  },
  {
   "cell_type": "markdown",
   "metadata": {},
   "source": [
    "### 第二重 效率优化"
   ]
  },
  {
   "cell_type": "code",
   "execution_count": 29,
   "metadata": {},
   "outputs": [
    {
     "data": {
      "text/plain": [
       "tensor([[[-1.0527,  0.8444,  0.2570,  0.4923],\n",
       "         [-1.0414,  0.3257, -0.1195, -0.1469]],\n",
       "\n",
       "        [[ 0.0901, -0.2256, -1.1794, -1.4731],\n",
       "         [ 0.2486, -0.0071, -0.9408, -1.0595]],\n",
       "\n",
       "        [[-0.0482,  0.1720, -0.2060, -0.2855],\n",
       "         [-0.1129,  0.2088, -0.1971, -0.2510]]], grad_fn=<UnsafeViewBackward0>)"
      ]
     },
     "execution_count": 29,
     "metadata": {},
     "output_type": "execute_result"
    }
   ],
   "source": [
    "class SelfAttention_2(nn.Module):\n",
    "    def __init__(self, hidden_dim):\n",
    "        super().__init__()\n",
    "        self.hidden_dim = hidden_dim\n",
    "        self.proj = nn.Linear(hidden_dim, hidden_dim*3)\n",
    "\n",
    "    def forward(self, x):\n",
    "        QKV = self.proj(x)\n",
    "        Q, K, V = torch.split(QKV, self.hidden_dim, dim=-1)\n",
    "        atten_value = torch.softmax(Q @ K.transpose(-2, -1) / math.sqrt(self.hidden_dim), dim = -1)\n",
    "        output = atten_value @ V\n",
    "        return output\n",
    "\n",
    "x = torch.randn(3, 2, 4)\n",
    "self_att = SelfAttention_2(4)\n",
    "self_att(x)"
   ]
  },
  {
   "cell_type": "markdown",
   "metadata": {},
   "source": [
    "### 第三重 加入一些细节"
   ]
  },
  {
   "cell_type": "markdown",
   "metadata": {},
   "source": []
  }
 ],
 "metadata": {
  "kernelspec": {
   "display_name": "QLoRA",
   "language": "python",
   "name": "python3"
  },
  "language_info": {
   "codemirror_mode": {
    "name": "ipython",
    "version": 3
   },
   "file_extension": ".py",
   "mimetype": "text/x-python",
   "name": "python",
   "nbconvert_exporter": "python",
   "pygments_lexer": "ipython3",
   "version": "3.8.20"
  }
 },
 "nbformat": 4,
 "nbformat_minor": 2
}
