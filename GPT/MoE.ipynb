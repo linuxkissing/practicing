{
 "cells": [
  {
   "cell_type": "code",
   "execution_count": 1,
   "metadata": {},
   "outputs": [],
   "source": [
    "import torch\n",
    "import torch.nn as nn\n",
    "import torch.nn.functional as F\n",
    "\n"
   ]
  },
  {
   "cell_type": "code",
   "execution_count": 4,
   "metadata": {},
   "outputs": [],
   "source": [
    "class Linear(nn.Module):\n",
    "    def __init__(self, input_dim, output_dim):\n",
    "        super().__init__()\n",
    "        self.fc = nn.Linear(input_dim, output_dim)\n",
    "\n",
    "    def forward(self, x):\n",
    "        return self.fc(x)\n",
    "    "
   ]
  },
  {
   "cell_type": "code",
   "execution_count": 18,
   "metadata": {},
   "outputs": [],
   "source": [
    "class MoELayer(nn.Module):\n",
    "    def __init__(self, num_experts, in_features, out_features):\n",
    "        super().__init__()\n",
    "        self.num_experts = num_experts\n",
    "        self.expert = nn.ModuleList([Linear(in_features, out_features) for _ in range(num_experts)])\n",
    "        self.gate = Linear(in_features, num_experts)\n",
    "\n",
    "    def forward(self, x):\n",
    "        gate_scores = F.softmax(self.gate(x), dim=-1)\n",
    "        expert_outputs = torch.stack([expert(x) for expert in self.expert], dim=1)\n",
    "        output = torch.bmm(gate_scores.unsqueeze(1), expert_outputs).squeeze(1)\n",
    "        return output\n"
   ]
  },
  {
   "cell_type": "code",
   "execution_count": 19,
   "metadata": {},
   "outputs": [
    {
     "name": "stdout",
     "output_type": "stream",
     "text": [
      "torch.Size([10, 6])\n"
     ]
    }
   ],
   "source": [
    "input_dim = 4\n",
    "output_dim = 6\n",
    "num_experts = 3\n",
    "batch_size = 10\n",
    "\n",
    "model = MoELayer(num_experts, input_dim, output_dim)\n",
    "\n",
    "demo = torch.randn(batch_size, input_dim)\n",
    "\n",
    "result = model(demo)\n",
    "\n",
    "print(result.shape)"
   ]
  },
  {
   "cell_type": "code",
   "execution_count": null,
   "metadata": {},
   "outputs": [],
   "source": []
  }
 ],
 "metadata": {
  "kernelspec": {
   "display_name": "QLoRA",
   "language": "python",
   "name": "python3"
  },
  "language_info": {
   "codemirror_mode": {
    "name": "ipython",
    "version": 3
   },
   "file_extension": ".py",
   "mimetype": "text/x-python",
   "name": "python",
   "nbconvert_exporter": "python",
   "pygments_lexer": "ipython3",
   "version": "3.8.20"
  }
 },
 "nbformat": 4,
 "nbformat_minor": 2
}
